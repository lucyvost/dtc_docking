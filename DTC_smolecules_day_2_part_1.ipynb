{
  "nbformat": 4,
  "nbformat_minor": 0,
  "metadata": {
    "colab": {
      "provenance": [],
      "gpuType": "T4",
      "authorship_tag": "ABX9TyPFfyNN8HdvSwKzJ0FRS0lG",
      "include_colab_link": true
    },
    "kernelspec": {
      "name": "python3",
      "display_name": "Python 3"
    },
    "language_info": {
      "name": "python"
    },
    "accelerator": "GPU",
    "widgets": {
      "application/vnd.jupyter.widget-state+json": {
        "2e0b55b46a12407cb90e0d2f491088aa": {
          "model_module": "@jupyter-widgets/controls",
          "model_name": "TextModel",
          "model_module_version": "1.5.0",
          "state": {
            "_dom_classes": [],
            "_model_module": "@jupyter-widgets/controls",
            "_model_module_version": "1.5.0",
            "_model_name": "TextModel",
            "_view_count": null,
            "_view_module": "@jupyter-widgets/controls",
            "_view_module_version": "1.5.0",
            "_view_name": "TextView",
            "continuous_update": true,
            "description": "",
            "description_tooltip": null,
            "disabled": false,
            "layout": "IPY_MODEL_8976cc59ee37464e98138bdb3c3b67cd",
            "placeholder": "​",
            "style": "IPY_MODEL_826e024384584f309bfa83949e287e57",
            "value": "A:330"
          }
        },
        "8976cc59ee37464e98138bdb3c3b67cd": {
          "model_module": "@jupyter-widgets/base",
          "model_name": "LayoutModel",
          "model_module_version": "1.2.0",
          "state": {
            "_model_module": "@jupyter-widgets/base",
            "_model_module_version": "1.2.0",
            "_model_name": "LayoutModel",
            "_view_count": null,
            "_view_module": "@jupyter-widgets/base",
            "_view_module_version": "1.2.0",
            "_view_name": "LayoutView",
            "align_content": null,
            "align_items": null,
            "align_self": null,
            "border": null,
            "bottom": null,
            "display": null,
            "flex": null,
            "flex_flow": null,
            "grid_area": null,
            "grid_auto_columns": null,
            "grid_auto_flow": null,
            "grid_auto_rows": null,
            "grid_column": null,
            "grid_gap": null,
            "grid_row": null,
            "grid_template_areas": null,
            "grid_template_columns": null,
            "grid_template_rows": null,
            "height": null,
            "justify_content": null,
            "justify_items": null,
            "left": null,
            "margin": null,
            "max_height": null,
            "max_width": null,
            "min_height": null,
            "min_width": null,
            "object_fit": null,
            "object_position": null,
            "order": null,
            "overflow": null,
            "overflow_x": null,
            "overflow_y": null,
            "padding": null,
            "right": null,
            "top": null,
            "visibility": null,
            "width": null
          }
        },
        "826e024384584f309bfa83949e287e57": {
          "model_module": "@jupyter-widgets/controls",
          "model_name": "DescriptionStyleModel",
          "model_module_version": "1.5.0",
          "state": {
            "_model_module": "@jupyter-widgets/controls",
            "_model_module_version": "1.5.0",
            "_model_name": "DescriptionStyleModel",
            "_view_count": null,
            "_view_module": "@jupyter-widgets/base",
            "_view_module_version": "1.2.0",
            "_view_name": "StyleView",
            "description_width": ""
          }
        }
      }
    }
  },
  "cells": [
    {
      "cell_type": "markdown",
      "metadata": {
        "id": "view-in-github",
        "colab_type": "text"
      },
      "source": [
        "<a href=\"https://colab.research.google.com/github/lucyvost/dtc_docking/blob/main/DTC_smolecules_day_2_part_1.ipynb\" target=\"_parent\"><img src=\"https://colab.research.google.com/assets/colab-badge.svg\" alt=\"Open In Colab\"/></a>"
      ]
    },
    {
      "cell_type": "markdown",
      "source": [
        "Before running anything:\n",
        " - select Runtime -> Change runtime type -> GPU\n",
        " - upload the file `requirements.txt`\n",
        "\n",
        "Then, whilst you get cosy, run the below cell to get conda and the various packages we'll be using installed\n",
        "\n",
        "You'll get a message about your kernel unexpectedly crashing - don't worry, that's just the restart that needs to happen for condacolab to work\n"
      ],
      "metadata": {
        "id": "_KB7mix2gb0I"
      }
    },
    {
      "cell_type": "code",
      "source": [
        "!pip install -q condacolab\n",
        "import condacolab\n",
        "condacolab.install()"
      ],
      "metadata": {
        "colab": {
          "base_uri": "https://localhost:8080/"
        },
        "id": "nTDWQuueTkkJ",
        "outputId": "5414d402-df9b-4746-929a-6fdf63dcd714"
      },
      "execution_count": null,
      "outputs": [
        {
          "output_type": "stream",
          "name": "stdout",
          "text": [
            "⏬ Downloading https://github.com/conda-forge/miniforge/releases/download/23.1.0-1/Mambaforge-23.1.0-1-Linux-x86_64.sh...\n",
            "📦 Installing...\n",
            "📌 Adjusting configuration...\n",
            "🩹 Patching environment...\n",
            "⏲ Done in 0:00:13\n",
            "🔁 Restarting kernel...\n"
          ]
        }
      ]
    },
    {
      "cell_type": "code",
      "source": [
        "#@title Install dependencies (this will take about 5 minutes)\n",
        "%%capture\n",
        "%cd /content\n",
        "\n",
        "import os\n",
        "! pip install -r requirements.txt\n",
        "commands = [\n",
        "    \"conda install openbabel -c conda-forge\",\n",
        "    \"git clone https://github.com/arneschneuing/DiffSBDD.git\",\n",
        "    \"mkdir -p /content/DiffSBDD/checkpoints\",\n",
        "    \"wget -P /content/DiffSBDD/checkpoints https://zenodo.org/record/8183747/files/moad_fullatom_cond.ckpt\",\n",
        "    \"wget -P /content/DiffSBDD/checkpoints https://zenodo.org/record/8183747/files/moad_fullatom_joint.ckpt\",\n",
        "]\n",
        "\n",
        "errors = {}\n",
        "\n",
        "if not os.path.isfile(\"/content/READY\"):\n",
        "  for cmd in commands:\n",
        "    # os.system(cmd)\n",
        "    with os.popen(cmd) as f:\n",
        "      out = f.read()\n",
        "      status = f.close()\n",
        "\n",
        "    if status is not None:\n",
        "      errors[cmd] = out\n",
        "      print(f\"\\n\\nAn error occurred while running '{cmd}'\\n\")\n",
        "      print(\"Status:\\t\", status)\n",
        "      print(\"Message:\\t\", out)\n",
        "\n",
        "if len(errors) == 0:\n",
        "  os.system(\"touch /content/READY\")\n",
        "\n",
        "\n",
        "! pip install torch-scatter -f https://data.pyg.org/whl/torch-2.1.0+cu121.html"
      ],
      "metadata": {
        "id": "FAswOSuMgFVI"
      },
      "execution_count": null,
      "outputs": []
    },
    {
      "cell_type": "markdown",
      "source": [
        "## PART 1: molecule generation"
      ],
      "metadata": {
        "id": "Yqf-MdWEfpp6"
      }
    },
    {
      "cell_type": "markdown",
      "source": [
        "### *de novo* molecule generation with DiffSBDD"
      ],
      "metadata": {
        "id": "TMY7MaUEfvFd"
      }
    },
    {
      "cell_type": "markdown",
      "source": [
        "First we're going to look at pocket-conditioned *de novo* compound generation with DiffSBDD: Structure-based Drug Design with Equivariant Diffusion Models.\n",
        "\n",
        "[**[Paper]**](https://arxiv.org/abs/2210.13695)\n",
        "[**[Code]**](https://github.com/arneschneuing/DiffSBDD)\n",
        "\n",
        "\n",
        "<img src=\"https://raw.githubusercontent.com/arneschneuing/DiffSBDD/main/img/overview.png\" height=250>"
      ],
      "metadata": {
        "id": "cHQ5U0LQLUAC"
      }
    },
    {
      "cell_type": "markdown",
      "source": [
        "Download your target PDB: we're going to be looking at 3RFM"
      ],
      "metadata": {
        "id": "Sm3tHZHxiWmG"
      }
    },
    {
      "cell_type": "code",
      "source": [
        "from google.colab import files\n",
        "from google.colab import output\n",
        "output.enable_custom_widget_manager()\n",
        "import os.path\n",
        "from pathlib import Path\n",
        "import urllib\n",
        "import os\n",
        "\n",
        "input_dir = Path(\"/content/input_pdbs/\")\n",
        "output_dir = Path(\"/content/output_sdfs/\")\n",
        "input_dir.mkdir(exist_ok=True)\n",
        "output_dir.mkdir(exist_ok=True)\n",
        "\n",
        "\n",
        "pdbfile = Path(input_dir, '3rfm.pdb')\n",
        "urllib.request.urlretrieve('http://files.rcsb.org/download/3rfm.pdb', pdbfile)\n",
        "\n"
      ],
      "metadata": {
        "id": "8yUsli1EiNhy",
        "colab": {
          "base_uri": "https://localhost:8080/"
        },
        "outputId": "704f4d97-e557-4a1e-8516-e4fab125f81c"
      },
      "execution_count": null,
      "outputs": [
        {
          "output_type": "execute_result",
          "data": {
            "text/plain": [
              "(PosixPath('/content/input_pdbs/3rfm.pdb'),\n",
              " <http.client.HTTPMessage at 0x789166a3a500>)"
            ]
          },
          "metadata": {},
          "execution_count": 3
        }
      ]
    },
    {
      "cell_type": "markdown",
      "source": [
        "Define binding pocket\n",
        "You can choose between two options to define the binding pocket:\n",
        "\n",
        "list of residues: provide a list where each residue is specified as <chain_id>:<res_id>, e.g, A:1 A:2 A:3 A:4 A:5 A:6 A:7\n",
        "reference ligand: if the uploaded PDB structure contains a reference ligand in the target pocket, you can specify its location as <chain_id>:<res_id> and the pocket will be extracted automatically"
      ],
      "metadata": {
        "id": "dK-KRSbzNq-D"
      }
    },
    {
      "cell_type": "code",
      "source": [
        "#@title { run: \"auto\" }\n",
        "import ipywidgets as widgets\n",
        "\n",
        "#@markdown **Note:** This cell is an interactive widget and the values will be updated automatically every time you change them. You do not need to execute the cell again. If you do, the default values will be reinserted.\n",
        "\n",
        "pocket_definition = \"reference ligand\" #@param [\"list of residues\", \"reference ligand\"]\n",
        "\n",
        "if pocket_definition == \"list of residues\":\n",
        "  print('pocket_residues:')\n",
        "  w = widgets.Text(value='A:9 A:59 A:60 A:62 A:63 A:64 A:66 A:67 A:80 A:81 A:84 A:85 A:88 A:167 A:168 A:169 A:170 A:172 A:174 A:177 A:181 A:246 A:249 A:250 A:252 A:253 A:256 A:265 A:267 A:270 A:271 A:273 A:274 A:275 A:277 A:278')\n",
        "  pocket_flag = \"--resi_list\"\n",
        "elif pocket_definition == \"reference ligand\":\n",
        "  print('reference_ligand:')\n",
        "  w = widgets.Text(value='A:330')\n",
        "  pocket_flag = \"--ref_ligand\"\n",
        "\n",
        "display(w)"
      ],
      "metadata": {
        "colab": {
          "base_uri": "https://localhost:8080/",
          "height": 67,
          "referenced_widgets": [
            "2e0b55b46a12407cb90e0d2f491088aa",
            "8976cc59ee37464e98138bdb3c3b67cd",
            "826e024384584f309bfa83949e287e57"
          ]
        },
        "id": "AG70FGGpNsnw",
        "outputId": "316af022-41bb-47c6-9b0c-8f431fb8f69b"
      },
      "execution_count": null,
      "outputs": [
        {
          "output_type": "stream",
          "name": "stdout",
          "text": [
            "reference_ligand:\n"
          ]
        },
        {
          "output_type": "display_data",
          "data": {
            "text/plain": [
              "Text(value='A:330')"
            ],
            "application/vnd.jupyter.widget-view+json": {
              "version_major": 2,
              "version_minor": 0,
              "model_id": "2e0b55b46a12407cb90e0d2f491088aa"
            }
          },
          "metadata": {
            "application/vnd.jupyter.widget-view+json": {
              "colab": {
                "custom_widget_manager": {
                  "url": "https://ssl.gstatic.com/colaboratory-static/widgets/colab-cdn-widget-manager/b3e629b1971e1542/manager.min.js"
                }
              }
            }
          }
        }
      ]
    },
    {
      "cell_type": "markdown",
      "source": [
        "## Settings\n",
        "\n",
        "These are the options you can change when sampling the molecule.\n",
        "- `n_samples` is the number of molecules you would like to generate\n",
        "- `ligand_nodes` is the number of atoms that will be plonked in at the beginning of the diffusion process - bear in mind they're unlikely to all get joined together, so you might want to make this number a bit bigger than the number of atomx you actually want your compounds to contain!\n",
        "- `model` allows you to choose which of the pretrained models you'd like to use\n",
        "- `timesteps` how many timesteps you would like the diffusion to take place over\n",
        "- `resamplings` and `jump_length` only pertain to the inpainting model\n",
        "-`keep_all_fragments` not all atoms will be joined together in the diffusion process, so this determines whether the non-connected atoms are included in the output\n",
        "-`sanitize` whether only rdkit-friendly molecules are output\n",
        "-`relax` whether an MD step is taken to increase the changes of the molecule being in an energetically favourable conformation\n"
      ],
      "metadata": {
        "id": "FszBNROjN2yq"
      }
    },
    {
      "cell_type": "code",
      "source": [
        "#@markdown ## Sampling\n",
        "n_samples = 16 #@param {type:\"slider\", min:1, max:100, step:1}\n",
        "ligand_nodes = 20 #@param {type:\"integer\"}\n",
        "\n",
        "model = \"Conditional model (Binding MOAD)\" #@param [\"Conditional model (Binding MOAD)\", \"Inpainting model (Binding MOAD)\"]\n",
        "checkpoint = Path( 'checkpoints', 'moad_fullatom_cond.ckpt') if model == \"Conditional model (Binding MOAD)\" else Path('DiffSBDD', 'checkpoints', 'moad_fullatom_joint.ckpt')\n",
        "\n",
        "timesteps = 14 #@param {type:\"slider\", min:1, max:500, step:1}\n",
        "\n",
        "#@markdown  ## Inpainting parameters\n",
        "resamplings = 1 #@param {type:\"integer\"}\n",
        "jump_length = 1 #@param {type:\"integer\"}\n",
        "\n",
        "#@markdown  ## Post-processing\n",
        "keep_all_fragments = False #@param {type:\"boolean\"}\n",
        "keep_all_fragments = \"--all_frags\" if keep_all_fragments else \"\"\n",
        "sanitize = False #@param {type:\"boolean\"}\n",
        "sanitize = \"--sanitize\" if sanitize else \"\"\n",
        "relax = False #@param {type:\"boolean\"}\n",
        "relax = \"--relax\" if relax else \"\""
      ],
      "metadata": {
        "id": "v_IrTJL7N7hB"
      },
      "execution_count": null,
      "outputs": []
    },
    {
      "cell_type": "markdown",
      "source": [
        "The next cell is where the actual sampling of the trained model takes place - if you haven't changed runtime type to GPU, it will take ages, but with a GPU it's pretty speedy."
      ],
      "metadata": {
        "id": "HKoWy7Yro96K"
      }
    },
    {
      "cell_type": "code",
      "source": [
        "#@title Run sampling (this will take a few minutes; runtime depends on the input parameters `n_samples`, `timesteps` etc.)\n",
        "%%capture\n",
        "%cd /content/DiffSBDD\n",
        "\n",
        "import argparse\n",
        "from pathlib import Path\n",
        "import torch\n",
        "import utils\n",
        "from lightning_modules import LigandPocketDDPM\n",
        "\n",
        "\n",
        "pdb_id = Path(pdbfile).stem\n",
        "pocket = w.value\n",
        "\n",
        "device = 'cuda' if torch.cuda.is_available() else 'cpu'\n",
        "\n",
        "# Load model\n",
        "model = LigandPocketDDPM.load_from_checkpoint(checkpoint, map_location=device)\n",
        "model = model.to(device)\n",
        "\n",
        "num_nodes_lig = torch.ones(n_samples, dtype=int) * ligand_nodes\n",
        "\n",
        "if pocket_flag == '--ref_ligand':\n",
        "  resi_list = None\n",
        "  ref_ligand = pocket\n",
        "else:\n",
        "  resi_list = pocket.split()\n",
        "  ref_ligand = None\n",
        "\n",
        "molecules = model.generate_ligands(\n",
        "    pdbfile, n_samples, resi_list, ref_ligand,\n",
        "    num_nodes_lig, (sanitize == '--sanitize'),\n",
        "    largest_frag=not (keep_all_fragments == \"--all_frags\"),\n",
        "    relax_iter=(200 if (relax == \"--relax\") else 0),\n",
        "    resamplings=resamplings, jump_length=jump_length,\n",
        "    timesteps=timesteps\n",
        ")\n",
        "\n",
        "# Make SDF files\n",
        "utils.write_sdf_file(Path(output_dir, f'{pdb_id}_mol.sdf'), molecules)"
      ],
      "metadata": {
        "id": "B2ajGnPbON-E"
      },
      "execution_count": null,
      "outputs": []
    },
    {
      "cell_type": "markdown",
      "source": [
        "You can now download your sdf file and open it in pymol - by eye, try and see how similar are the generated molecules to the crystal structure of the ligand: do they overlap in volume? do they maintain any of the interactions of the crystal ligand structure?\n",
        "\n",
        "Hints:\n",
        "- You can get the crytal structure straight into pymol just by running `fetch 3rfm` in the pymol command line\n",
        "- You can then view hydrogen bonds within the solved structure by going Action > Find > Polar contacts > Within Selection"
      ],
      "metadata": {
        "id": "KajszvvYRlsU"
      }
    },
    {
      "cell_type": "markdown",
      "source": [
        "Now, we'll actually assess the quality of the generated molecules. One of the most common ways to do this is using RDkit, which you used a bit on Tuesday. See below an example of how you can do this with a molecule made up from a smiles string:"
      ],
      "metadata": {
        "id": "sRZQ5wxhSDY4"
      }
    },
    {
      "cell_type": "code",
      "source": [
        "! pip install rdkit\n",
        "from rdkit import Chem\n",
        "from rdkit.Chem import AllChem\n",
        "from rdkit.Chem import Draw\n",
        "example_smiles = Chem.MolFromSmiles('CC(=O)NC1=CC=C(O)C=C1')\n",
        "Chem.Draw.MolToImage(example_smiles)"
      ],
      "metadata": {
        "colab": {
          "base_uri": "https://localhost:8080/",
          "height": 408
        },
        "id": "U-LIlPzcSUID",
        "outputId": "62ef7304-bd5f-448b-f6f9-efb2bccfd21b"
      },
      "execution_count": null,
      "outputs": [
        {
          "output_type": "stream",
          "name": "stdout",
          "text": [
            "Requirement already satisfied: rdkit in /usr/local/lib/python3.10/site-packages (2022.3.3)\n",
            "Requirement already satisfied: Pillow in /usr/local/lib/python3.10/site-packages (from rdkit) (9.3.0)\n",
            "Requirement already satisfied: numpy in /usr/local/lib/python3.10/site-packages (from rdkit) (1.22.4)\n",
            "\u001b[33mWARNING: Running pip as the 'root' user can result in broken permissions and conflicting behaviour with the system package manager. It is recommended to use a virtual environment instead: https://pip.pypa.io/warnings/venv\u001b[0m\u001b[33m\n",
            "\u001b[0m"
          ]
        },
        {
          "output_type": "execute_result",
          "data": {
            "text/plain": [
              "<PIL.PngImagePlugin.PngImageFile image mode=RGB size=300x300>"
            ],
            "image/png": "[encoded data removed]"
          },
          "metadata": {},
          "execution_count": 21
        }
      ]
    },
    {
      "cell_type": "markdown",
      "source": [
        "...you just got paracetamol'd! rdkit was able to parse the molecule we gave it, so running 'example_smiles' showed us the molecule we asked for. If we supply it with an invalid smiles, though, it would return nothing:"
      ],
      "metadata": {
        "id": "ZxD4YQwRTIfS"
      }
    },
    {
      "cell_type": "code",
      "source": [
        "example_smiles = Chem.MolFromSmiles('C=C(=O)C1CCC(O)CC1')\n",
        "example_smiles == None"
      ],
      "metadata": {
        "colab": {
          "base_uri": "https://localhost:8080/"
        },
        "id": "C7bNfNIgTmPF",
        "outputId": "22b3d97f-8604-4a50-c737-c2ea4a30a902"
      },
      "execution_count": null,
      "outputs": [
        {
          "output_type": "execute_result",
          "data": {
            "text/plain": [
              "True"
            ]
          },
          "metadata": {},
          "execution_count": 23
        }
      ]
    },
    {
      "cell_type": "markdown",
      "source": [
        "Now try and do the same with the molecules generated with diffusion, and calculate the percentage of molecules that are parsable with rdkit.\n",
        "Hints:\n",
        " - Remember you're currently cd'd into `contents/DiffSBDD`\n",
        " - You can load the sdf file you've generated with `supplier = Chem.SDMolSupplier(path)`\n",
        " - Iterate through this list, and for every molecule, check whether it is valid according to rdkit"
      ],
      "metadata": {
        "id": "_2DweCIwTM0N"
      }
    },
    {
      "cell_type": "code",
      "source": [
        "#how valid are the generated molecules?"
      ],
      "metadata": {
        "id": "54iZy_RSaJN_"
      },
      "execution_count": null,
      "outputs": []
    },
    {
      "cell_type": "markdown",
      "source": [
        "There also exist packages that do a slightly more thorough check for molecule plausibility, for example posebusters (documentation [here](https://posebusters.readthedocs.io/en/latest/)). Check through the molecules with this, and see what the most common cause of failure is!"
      ],
      "metadata": {
        "id": "FZXorfKdkAoz"
      }
    },
    {
      "cell_type": "code",
      "source": [
        "! pip uninstall rdkit\n",
        "! pip install posebusters --upgrade"
      ],
      "metadata": {
        "colab": {
          "base_uri": "https://localhost:8080/"
        },
        "id": "O6YM1QcJkLZb",
        "outputId": "28db2a64-c992-4251-9632-2542ea434bc5"
      },
      "execution_count": null,
      "outputs": [
        {
          "output_type": "stream",
          "name": "stdout",
          "text": [
            "Found existing installation: rdkit 2022.3.3\n",
            "Uninstalling rdkit-2022.3.3:\n",
            "  Would remove:\n",
            "    /usr/local/lib/python3.10/site-packages/rdkit-2022.3.3.dist-info/*\n",
            "    /usr/local/lib/python3.10/site-packages/rdkit.libs/libRDKitAbbreviations-8ddeeaee.so.1\n",
            "    /usr/local/lib/python3.10/site-packages/rdkit.libs/libRDKitAlignment-aa3b84ce.so.1\n",
            "    /usr/local/lib/python3.10/site-packages/rdkit.libs/libRDKitAvalonLib-66c4c23c.so.1\n",
            "    /usr/local/lib/python3.10/site-packages/rdkit.libs/libRDKitCIPLabeler-b7e3cdb3.so.1\n",
            "    /usr/local/lib/python3.10/site-packages/rdkit.libs/libRDKitCatalogs-2691a182.so.1\n",
            "    /usr/local/lib/python3.10/site-packages/rdkit.libs/libRDKitChemReactions-77f0b168.so.1\n",
            "    /usr/local/lib/python3.10/site-packages/rdkit.libs/libRDKitChemTransforms-44351af6.so.1\n",
            "    /usr/local/lib/python3.10/site-packages/rdkit.libs/libRDKitChemicalFeatures-654d2101.so.1\n",
            "    /usr/local/lib/python3.10/site-packages/rdkit.libs/libRDKitDataStructs-50615841.so.1\n",
            "    /usr/local/lib/python3.10/site-packages/rdkit.libs/libRDKitDepictor-06ea9f4f.so.1\n",
            "    /usr/local/lib/python3.10/site-packages/rdkit.libs/libRDKitDeprotect-3d2e3811.so.1\n",
            "    /usr/local/lib/python3.10/site-packages/rdkit.libs/libRDKitDescriptors-0dbdc7fa.so.1\n",
            "    /usr/local/lib/python3.10/site-packages/rdkit.libs/libRDKitDistGeomHelpers-2cb5fac1.so.1\n",
            "    /usr/local/lib/python3.10/site-packages/rdkit.libs/libRDKitDistGeometry-b2566e05.so.1\n",
            "    /usr/local/lib/python3.10/site-packages/rdkit.libs/libRDKitEHTLib-ca8b0ba2.so.1\n",
            "    /usr/local/lib/python3.10/site-packages/rdkit.libs/libRDKitEigenSolvers-eaa32a74.so.1\n",
            "    /usr/local/lib/python3.10/site-packages/rdkit.libs/libRDKitFMCS-f2e44b92.so.1\n",
            "    /usr/local/lib/python3.10/site-packages/rdkit.libs/libRDKitFileParsers-6ba5b340.so.1\n",
            "    /usr/local/lib/python3.10/site-packages/rdkit.libs/libRDKitFilterCatalog-dfca4199.so.1\n",
            "    /usr/local/lib/python3.10/site-packages/rdkit.libs/libRDKitFingerprints-ce883c3d.so.1\n",
            "    /usr/local/lib/python3.10/site-packages/rdkit.libs/libRDKitForceField-e646ee57.so.1\n",
            "    /usr/local/lib/python3.10/site-packages/rdkit.libs/libRDKitForceFieldHelpers-1c9f4408.so.1\n",
            "    /usr/local/lib/python3.10/site-packages/rdkit.libs/libRDKitFragCatalog-b571734a.so.1\n",
            "    /usr/local/lib/python3.10/site-packages/rdkit.libs/libRDKitFreeSASALib-00733021.so.1\n",
            "    /usr/local/lib/python3.10/site-packages/rdkit.libs/libRDKitGenericGroups-3e39d75e.so.1\n",
            "    /usr/local/lib/python3.10/site-packages/rdkit.libs/libRDKitGraphMol-c131e730.so.1\n",
            "    /usr/local/lib/python3.10/site-packages/rdkit.libs/libRDKitInchi-b89c89a6.so.1\n",
            "    /usr/local/lib/python3.10/site-packages/rdkit.libs/libRDKitInfoTheory-50644446.so.1\n",
            "    /usr/local/lib/python3.10/site-packages/rdkit.libs/libRDKitMMPA-5a43ca86.so.1\n",
            "    /usr/local/lib/python3.10/site-packages/rdkit.libs/libRDKitMolAlign-03d71343.so.1\n",
            "    /usr/local/lib/python3.10/site-packages/rdkit.libs/libRDKitMolCatalog-0c06a69b.so.1\n",
            "    /usr/local/lib/python3.10/site-packages/rdkit.libs/libRDKitMolChemicalFeatures-de708f5d.so.1\n",
            "    /usr/local/lib/python3.10/site-packages/rdkit.libs/libRDKitMolDraw2D-6eb076d3.so.1\n",
            "    /usr/local/lib/python3.10/site-packages/rdkit.libs/libRDKitMolEnumerator-e82fad7b.so.1\n",
            "    /usr/local/lib/python3.10/site-packages/rdkit.libs/libRDKitMolHash-eebf15c2.so.1\n",
            "    /usr/local/lib/python3.10/site-packages/rdkit.libs/libRDKitMolInterchange-40cb7a98.so.1\n",
            "    /usr/local/lib/python3.10/site-packages/rdkit.libs/libRDKitMolStandardize-000b5533.so.1\n",
            "    /usr/local/lib/python3.10/site-packages/rdkit.libs/libRDKitMolTransforms-36bc9e20.so.1\n",
            "    /usr/local/lib/python3.10/site-packages/rdkit.libs/libRDKitO3AAlign-badfd496.so.1\n",
            "    /usr/local/lib/python3.10/site-packages/rdkit.libs/libRDKitOptimizer-aa12f356.so.1\n",
            "    /usr/local/lib/python3.10/site-packages/rdkit.libs/libRDKitPartialCharges-c534de65.so.1\n",
            "    /usr/local/lib/python3.10/site-packages/rdkit.libs/libRDKitRDBoost-e07b2815.so.1\n",
            "    /usr/local/lib/python3.10/site-packages/rdkit.libs/libRDKitRDGeneral-63bab772.so.1\n",
            "    /usr/local/lib/python3.10/site-packages/rdkit.libs/libRDKitRDGeometryLib-13f0259e.so.1\n",
            "    /usr/local/lib/python3.10/site-packages/rdkit.libs/libRDKitRDInchiLib-dbf5a484.so.1\n",
            "    /usr/local/lib/python3.10/site-packages/rdkit.libs/libRDKitRGroupDecomposition-d8373eef.so.1\n",
            "    /usr/local/lib/python3.10/site-packages/rdkit.libs/libRDKitReducedGraphs-96d0b745.so.1\n",
            "    /usr/local/lib/python3.10/site-packages/rdkit.libs/libRDKitRingDecomposerLib-ad06e9e7.so.1\n",
            "    /usr/local/lib/python3.10/site-packages/rdkit.libs/libRDKitSLNParse-4bd631d0.so.1\n",
            "    /usr/local/lib/python3.10/site-packages/rdkit.libs/libRDKitScaffoldNetwork-907aef5d.so.1\n",
            "    /usr/local/lib/python3.10/site-packages/rdkit.libs/libRDKitShapeHelpers-d6709b29.so.1\n",
            "    /usr/local/lib/python3.10/site-packages/rdkit.libs/libRDKitSimDivPickers-ec4ef220.so.1\n",
            "    /usr/local/lib/python3.10/site-packages/rdkit.libs/libRDKitSmilesParse-aa040634.so.1\n",
            "    /usr/local/lib/python3.10/site-packages/rdkit.libs/libRDKitSubgraphs-f30e9744.so.1\n",
            "    /usr/local/lib/python3.10/site-packages/rdkit.libs/libRDKitSubstructLibrary-a31f6f51.so.1\n",
            "    /usr/local/lib/python3.10/site-packages/rdkit.libs/libRDKitSubstructMatch-7e9dd767.so.1\n",
            "    /usr/local/lib/python3.10/site-packages/rdkit.libs/libRDKitTautomerQuery-f0a6159a.so.1\n",
            "    /usr/local/lib/python3.10/site-packages/rdkit.libs/libRDKitTrajectory-f2695e04.so.1\n",
            "    /usr/local/lib/python3.10/site-packages/rdkit.libs/libRDKitavalon_clib-741228d8.so.1\n",
            "    /usr/local/lib/python3.10/site-packages/rdkit.libs/libRDKitcoordgen-c6cb5484.so.1\n",
            "    /usr/local/lib/python3.10/site-packages/rdkit.libs/libRDKitfreesasa_clib-529d8a98.so.1\n",
            "    /usr/local/lib/python3.10/site-packages/rdkit.libs/libRDKitga-0db150cb.so.1\n",
            "    /usr/local/lib/python3.10/site-packages/rdkit.libs/libRDKithc-8e970914.so.1\n",
            "    /usr/local/lib/python3.10/site-packages/rdkit.libs/libRDKitmaeparser-1285e8e5.so.1\n",
            "    /usr/local/lib/python3.10/site-packages/rdkit.libs/libXau-00ec42fe.so.6.0.0\n",
            "    /usr/local/lib/python3.10/site-packages/rdkit.libs/libboost_iostreams-3d07e559.so.1.75.0\n",
            "    /usr/local/lib/python3.10/site-packages/rdkit.libs/libboost_python310-76bbbaa6.so.1.75.0\n",
            "    /usr/local/lib/python3.10/site-packages/rdkit.libs/libboost_regex-56c43615.so.1.75.0\n",
            "    /usr/local/lib/python3.10/site-packages/rdkit.libs/libboost_serialization-0a144050.so.1.75.0\n",
            "    /usr/local/lib/python3.10/site-packages/rdkit.libs/libboost_system-0806f462.so.1.75.0\n",
            "    /usr/local/lib/python3.10/site-packages/rdkit.libs/libbz2-a273e504.so.1.0.6\n",
            "    /usr/local/lib/python3.10/site-packages/rdkit.libs/libcairo-ddd0c49f.so.2.11514.0\n",
            "    /usr/local/lib/python3.10/site-packages/rdkit.libs/libfreetype-c0e61f0c.so.6.14.0\n",
            "    /usr/local/lib/python3.10/site-packages/rdkit.libs/libpixman-1-f094a0b6.so.0.34.0\n",
            "    /usr/local/lib/python3.10/site-packages/rdkit.libs/libpng15-ce838cd1.so.15.13.0\n",
            "    /usr/local/lib/python3.10/site-packages/rdkit.libs/libxcb-65da195c.so.1.1.0\n",
            "    /usr/local/lib/python3.10/site-packages/rdkit.libs/libxcb-render-637b984a.so.0.0.0\n",
            "    /usr/local/lib/python3.10/site-packages/rdkit.libs/libxcb-shm-7a199f70.so.0.0.0\n",
            "    /usr/local/lib/python3.10/site-packages/rdkit/*\n",
            "Proceed (Y/n)? Y\n",
            "  Successfully uninstalled rdkit-2022.3.3\n",
            "\u001b[33mWARNING: Running pip as the 'root' user can result in broken permissions and conflicting behaviour with the system package manager. It is recommended to use a virtual environment instead: https://pip.pypa.io/warnings/venv\u001b[0m\u001b[33m\n",
            "\u001b[0mRequirement already satisfied: posebusters in /usr/local/lib/python3.10/site-packages (0.2.8)\n",
            "Requirement already satisfied: pyyaml in /usr/local/lib/python3.10/site-packages (from posebusters) (6.0.1)\n",
            "Collecting rdkit>=2020.09\n",
            "  Downloading rdkit-2023.9.2-cp310-cp310-manylinux_2_17_x86_64.manylinux2014_x86_64.whl (30.5 MB)\n",
            "\u001b[2K     \u001b[90m━━━━━━━━━━━━━━━━━━━━━━━━━━━━━━━━━━━━━━━━\u001b[0m \u001b[32m30.5/30.5 MB\u001b[0m \u001b[31m52.6 MB/s\u001b[0m eta \u001b[36m0:00:00\u001b[0m\n",
            "\u001b[?25hRequirement already satisfied: pandas in /usr/local/lib/python3.10/site-packages (from posebusters) (2.1.3)\n",
            "Requirement already satisfied: numpy in /usr/local/lib/python3.10/site-packages (from posebusters) (1.22.4)\n",
            "Requirement already satisfied: Pillow in /usr/local/lib/python3.10/site-packages (from rdkit>=2020.09->posebusters) (9.3.0)\n",
            "Requirement already satisfied: tzdata>=2022.1 in /usr/local/lib/python3.10/site-packages (from pandas->posebusters) (2023.3)\n",
            "Requirement already satisfied: python-dateutil>=2.8.2 in /usr/local/lib/python3.10/site-packages (from pandas->posebusters) (2.8.2)\n",
            "Requirement already satisfied: pytz>=2020.1 in /usr/local/lib/python3.10/site-packages (from pandas->posebusters) (2023.3.post1)\n",
            "Requirement already satisfied: six>=1.5 in /usr/local/lib/python3.10/site-packages (from python-dateutil>=2.8.2->pandas->posebusters) (1.16.0)\n",
            "Installing collected packages: rdkit\n",
            "Successfully installed rdkit-2023.9.2\n",
            "\u001b[33mWARNING: Running pip as the 'root' user can result in broken permissions and conflicting behaviour with the system package manager. It is recommended to use a virtual environment instead: https://pip.pypa.io/warnings/venv\u001b[0m\u001b[33m\n",
            "\u001b[0m"
          ]
        }
      ]
    },
    {
      "cell_type": "code",
      "source": [
        "! bust ../output_sdfs/3rfm_mol.sdf"
      ],
      "metadata": {
        "colab": {
          "base_uri": "https://localhost:8080/"
        },
        "id": "BMduJK8Wlj1W",
        "outputId": "b0dda665-9259-41bc-cf5b-d91c8e1c9ef8"
      },
      "execution_count": null,
      "outputs": [
        {
          "output_type": "stream",
          "name": "stdout",
          "text": [
            "[15:13:11] UFFTYPER: Unrecognized atom type: S_4+4 (15)\n",
            "../output_sdfs/3rfm_mol.sdf mol_at_pos_0  passes (7 / 9)\n",
            "../output_sdfs/3rfm_mol.sdf mol_at_pos_1  passes (6 / 9)\n",
            "../output_sdfs/3rfm_mol.sdf mol_at_pos_2  passes (8 / 9)\n",
            "../output_sdfs/3rfm_mol.sdf mol_at_pos_3  passes (9 / 9)\n",
            "../output_sdfs/3rfm_mol.sdf mol_at_pos_4  passes (6 / 9)\n",
            "../output_sdfs/3rfm_mol.sdf mol_at_pos_5  passes (7 / 9)\n",
            "../output_sdfs/3rfm_mol.sdf mol_at_pos_6  passes (9 / 9)\n",
            "../output_sdfs/3rfm_mol.sdf mol_at_pos_7  passes (8 / 9)\n",
            "../output_sdfs/3rfm_mol.sdf mol_at_pos_8  passes (8 / 9)\n",
            "../output_sdfs/3rfm_mol.sdf mol_at_pos_9  passes (9 / 9)\n",
            "../output_sdfs/3rfm_mol.sdf mol_at_pos_10  passes (8 / 9)\n",
            "../output_sdfs/3rfm_mol.sdf mol_at_pos_11  passes (7 / 9)\n",
            "../output_sdfs/3rfm_mol.sdf mol_at_pos_12  passes (6 / 9)\n",
            "../output_sdfs/3rfm_mol.sdf mol_at_pos_13  passes (9 / 9)\n",
            "../output_sdfs/3rfm_mol.sdf mol_at_pos_14  passes (7 / 9)\n",
            "../output_sdfs/3rfm_mol.sdf mol_at_pos_15  passes (8 / 9)\n"
          ]
        }
      ]
    },
    {
      "cell_type": "code",
      "source": [],
      "metadata": {
        "colab": {
          "base_uri": "https://localhost:8080/"
        },
        "id": "8EdTE1_NkNZs",
        "outputId": "04056857-eb99-45c9-de8d-c76cec9ff3d7"
      },
      "execution_count": null,
      "outputs": [
        {
          "output_type": "stream",
          "name": "stdout",
          "text": [
            "Traceback (most recent call last):\n",
            "  File \"/usr/local/bin/bust\", line 5, in <module>\n",
            "    from posebusters.cli import main\n",
            "  File \"/usr/local/lib/python3.10/site-packages/posebusters/__init__.py\", line 4, in <module>\n",
            "    from posebusters.modules.energy_ratio import check_energy_ratio\n",
            "  File \"/usr/local/lib/python3.10/site-packages/posebusters/modules/energy_ratio.py\", line 20, in <module>\n",
            "    from ..tools.molecules import assert_sanity\n",
            "  File \"/usr/local/lib/python3.10/site-packages/posebusters/tools/molecules.py\", line 20, in <module>\n",
            "    from rdkit.Chem.rdMolAlign import GetBestAlignmentTransform\n",
            "ImportError: cannot import name 'GetBestAlignmentTransform' from 'rdkit.Chem.rdMolAlign' (/usr/local/lib/python3.10/site-packages/rdkit/Chem/rdMolAlign.so)\n"
          ]
        }
      ]
    },
    {
      "cell_type": "code",
      "source": [
        "from rdkit.Chem.rdMolAlign import GetBestAlignmentTransform"
      ],
      "metadata": {
        "colab": {
          "base_uri": "https://localhost:8080/",
          "height": 338
        },
        "id": "8RHr_iLsmCmf",
        "outputId": "9f448011-be88-4c5c-c62f-b13813f81118"
      },
      "execution_count": null,
      "outputs": [
        {
          "output_type": "error",
          "ename": "ImportError",
          "evalue": "ignored",
          "traceback": [
            "\u001b[0;31m---------------------------------------------------------------------------\u001b[0m",
            "\u001b[0;31mImportError\u001b[0m                               Traceback (most recent call last)",
            "\u001b[0;32m<ipython-input-42-1ba654d71b01>\u001b[0m in \u001b[0;36m<cell line: 1>\u001b[0;34m()\u001b[0m\n\u001b[0;32m----> 1\u001b[0;31m \u001b[0;32mfrom\u001b[0m \u001b[0mrdkit\u001b[0m\u001b[0;34m.\u001b[0m\u001b[0mChem\u001b[0m\u001b[0;34m.\u001b[0m\u001b[0mrdMolAlign\u001b[0m \u001b[0;32mimport\u001b[0m \u001b[0mGetBestAlignmentTransform\u001b[0m\u001b[0;34m\u001b[0m\u001b[0;34m\u001b[0m\u001b[0m\n\u001b[0m",
            "\u001b[0;31mImportError\u001b[0m: cannot import name 'GetBestAlignmentTransform' from 'rdkit.Chem.rdMolAlign' (/usr/local/lib/python3.10/site-packages/rdkit/Chem/rdMolAlign.so)",
            "",
            "\u001b[0;31m---------------------------------------------------------------------------\u001b[0;32m\nNOTE: If your import is failing due to a missing package, you can\nmanually install dependencies using either !pip or !apt.\n\nTo view examples of installing some common dependencies, click the\n\"Open Examples\" button below.\n\u001b[0;31m---------------------------------------------------------------------------\u001b[0m\n"
          ],
          "errorDetails": {
            "actions": [
              {
                "action": "open_url",
                "actionText": "Open Examples",
                "url": "/notebooks/snippets/importing_libraries.ipynb"
              }
            ]
          }
        }
      ]
    },
    {
      "cell_type": "code",
      "source": [],
      "metadata": {
        "id": "yVneTDLjmsk5"
      },
      "execution_count": null,
      "outputs": []
    }
  ]
}