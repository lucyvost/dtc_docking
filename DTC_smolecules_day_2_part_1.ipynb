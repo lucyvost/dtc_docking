{
  "nbformat": 4,
  "nbformat_minor": 0,
  "metadata": {
    "colab": {
      "provenance": [],
      "gpuType": "T4",
      "authorship_tag": "ABX9TyNWWsGfnqIsIQnxqJjYUgQB",
      "include_colab_link": true
    },
    "kernelspec": {
      "name": "python3",
      "display_name": "Python 3"
    },
    "language_info": {
      "name": "python"
    },
    "accelerator": "GPU",
    "widgets": {
      "application/vnd.jupyter.widget-state+json": {
        "cdb80341b8a0401a80c2cc5ceb393e86": {
          "model_module": "@jupyter-widgets/controls",
          "model_name": "TextModel",
          "model_module_version": "1.5.0",
          "state": {
            "_dom_classes": [],
            "_model_module": "@jupyter-widgets/controls",
            "_model_module_version": "1.5.0",
            "_model_name": "TextModel",
            "_view_count": null,
            "_view_module": "@jupyter-widgets/controls",
            "_view_module_version": "1.5.0",
            "_view_name": "TextView",
            "continuous_update": true,
            "description": "",
            "description_tooltip": null,
            "disabled": false,
            "layout": "IPY_MODEL_40e50270ae434df188cd87efb1025d7e",
            "placeholder": "​",
            "style": "IPY_MODEL_ecfa02310acd49afb258d95d889f2c68",
            "value": "A:330"
          }
        },
        "40e50270ae434df188cd87efb1025d7e": {
          "model_module": "@jupyter-widgets/base",
          "model_name": "LayoutModel",
          "model_module_version": "1.2.0",
          "state": {
            "_model_module": "@jupyter-widgets/base",
            "_model_module_version": "1.2.0",
            "_model_name": "LayoutModel",
            "_view_count": null,
            "_view_module": "@jupyter-widgets/base",
            "_view_module_version": "1.2.0",
            "_view_name": "LayoutView",
            "align_content": null,
            "align_items": null,
            "align_self": null,
            "border": null,
            "bottom": null,
            "display": null,
            "flex": null,
            "flex_flow": null,
            "grid_area": null,
            "grid_auto_columns": null,
            "grid_auto_flow": null,
            "grid_auto_rows": null,
            "grid_column": null,
            "grid_gap": null,
            "grid_row": null,
            "grid_template_areas": null,
            "grid_template_columns": null,
            "grid_template_rows": null,
            "height": null,
            "justify_content": null,
            "justify_items": null,
            "left": null,
            "margin": null,
            "max_height": null,
            "max_width": null,
            "min_height": null,
            "min_width": null,
            "object_fit": null,
            "object_position": null,
            "order": null,
            "overflow": null,
            "overflow_x": null,
            "overflow_y": null,
            "padding": null,
            "right": null,
            "top": null,
            "visibility": null,
            "width": null
          }
        },
        "ecfa02310acd49afb258d95d889f2c68": {
          "model_module": "@jupyter-widgets/controls",
          "model_name": "DescriptionStyleModel",
          "model_module_version": "1.5.0",
          "state": {
            "_model_module": "@jupyter-widgets/controls",
            "_model_module_version": "1.5.0",
            "_model_name": "DescriptionStyleModel",
            "_view_count": null,
            "_view_module": "@jupyter-widgets/base",
            "_view_module_version": "1.2.0",
            "_view_name": "StyleView",
            "description_width": ""
          }
        }
      }
    }
  },
  "cells": [
    {
      "cell_type": "markdown",
      "metadata": {
        "id": "view-in-github",
        "colab_type": "text"
      },
      "source": [
        "<a href=\"https://colab.research.google.com/github/lucyvost/dtc_docking/blob/main/DTC_smolecules_day_2_part_1.ipynb\" target=\"_parent\"><img src=\"https://colab.research.google.com/assets/colab-badge.svg\" alt=\"Open In Colab\"/></a>"
      ]
    },
    {
      "cell_type": "markdown",
      "source": [
        "Before running anything:\n",
        " - select Runtime -> Change runtime type -> GPU\n",
        " - upload the file `requirements.txt`\n",
        "\n",
        "Then, whilst you get cosy, run the below cell to get conda and the various packages we'll be using installed\n",
        "\n",
        "You'll get a message about your kernel unexpectedly crashing - don't worry, that's just the restart that needs to happen for condacolab to work\n"
      ],
      "metadata": {
        "id": "_KB7mix2gb0I"
      }
    },
    {
      "cell_type": "code",
      "source": [
        "!pip install -q condacolab\n",
        "import condacolab\n",
        "condacolab.install()"
      ],
      "metadata": {
        "colab": {
          "base_uri": "https://localhost:8080/"
        },
        "id": "nTDWQuueTkkJ",
        "outputId": "00286bbf-b543-4247-c620-8512332c59ce"
      },
      "execution_count": 1,
      "outputs": [
        {
          "output_type": "stream",
          "name": "stdout",
          "text": [
            "⏬ Downloading https://github.com/conda-forge/miniforge/releases/download/23.1.0-1/Mambaforge-23.1.0-1-Linux-x86_64.sh...\n",
            "📦 Installing...\n",
            "📌 Adjusting configuration...\n",
            "🩹 Patching environment...\n",
            "⏲ Done in 0:00:12\n",
            "🔁 Restarting kernel...\n"
          ]
        }
      ]
    },
    {
      "cell_type": "code",
      "source": [
        "#@title Install dependencies (this will take about 5 minutes)\n",
        "%%capture\n",
        "%cd /content\n",
        "\n",
        "import os\n",
        "! pip install -r requirements.txt\n",
        "commands = [\n",
        "    \"conda install openbabel -c conda-forge\",\n",
        "    \"git clone https://github.com/arneschneuing/DiffSBDD.git\",\n",
        "    \"mkdir -p /content/DiffSBDD/checkpoints\",\n",
        "    \"wget -P /content/DiffSBDD/checkpoints https://zenodo.org/record/8183747/files/moad_fullatom_cond.ckpt\",\n",
        "    \"wget -P /content/DiffSBDD/checkpoints https://zenodo.org/record/8183747/files/moad_fullatom_joint.ckpt\",\n",
        "]\n",
        "\n",
        "errors = {}\n",
        "\n",
        "if not os.path.isfile(\"/content/READY\"):\n",
        "  for cmd in commands:\n",
        "    # os.system(cmd)\n",
        "    with os.popen(cmd) as f:\n",
        "      out = f.read()\n",
        "      status = f.close()\n",
        "\n",
        "    if status is not None:\n",
        "      errors[cmd] = out\n",
        "      print(f\"\\n\\nAn error occurred while running '{cmd}'\\n\")\n",
        "      print(\"Status:\\t\", status)\n",
        "      print(\"Message:\\t\", out)\n",
        "\n",
        "if len(errors) == 0:\n",
        "  os.system(\"touch /content/READY\")\n",
        "\n",
        "\n",
        "! pip install torch-scatter -f https://data.pyg.org/whl/torch-2.1.0+cu121.html"
      ],
      "metadata": {
        "id": "FAswOSuMgFVI"
      },
      "execution_count": 1,
      "outputs": []
    },
    {
      "cell_type": "markdown",
      "source": [
        "## PART 1: molecule generation"
      ],
      "metadata": {
        "id": "Yqf-MdWEfpp6"
      }
    },
    {
      "cell_type": "markdown",
      "source": [
        "### *de novo* molecule generation with DiffSBDD"
      ],
      "metadata": {
        "id": "TMY7MaUEfvFd"
      }
    },
    {
      "cell_type": "markdown",
      "source": [
        "First we're going to look at pocket-conditioned *de novo* compound generation with DiffSBDD: Structure-based Drug Design with Equivariant Diffusion Models.\n",
        "\n",
        "[**[Paper]**](https://arxiv.org/abs/2210.13695)\n",
        "[**[Code]**](https://github.com/arneschneuing/DiffSBDD)\n",
        "\n",
        "\n",
        "<img src=\"https://raw.githubusercontent.com/arneschneuing/DiffSBDD/main/img/overview.png\" height=250>"
      ],
      "metadata": {
        "id": "cHQ5U0LQLUAC"
      }
    },
    {
      "cell_type": "markdown",
      "source": [
        "Download your target PDB: we're going to be looking at 3RFM"
      ],
      "metadata": {
        "id": "Sm3tHZHxiWmG"
      }
    },
    {
      "cell_type": "code",
      "source": [
        "from google.colab import files\n",
        "from google.colab import output\n",
        "output.enable_custom_widget_manager()\n",
        "import os.path\n",
        "from pathlib import Path\n",
        "import urllib\n",
        "import os\n",
        "\n",
        "input_dir = Path(\"/content/input_pdbs/\")\n",
        "output_dir = Path(\"/content/output_sdfs/\")\n",
        "input_dir.mkdir(exist_ok=True)\n",
        "output_dir.mkdir(exist_ok=True)\n",
        "\n",
        "\n",
        "pdbfile = Path(input_dir, '3rfm.pdb')\n",
        "urllib.request.urlretrieve('http://files.rcsb.org/download/3rfm.pdb', pdbfile)\n",
        "\n"
      ],
      "metadata": {
        "id": "8yUsli1EiNhy",
        "colab": {
          "base_uri": "https://localhost:8080/"
        },
        "outputId": "40c3aeb2-e812-4828-88b5-ab9d23fb1b05"
      },
      "execution_count": 2,
      "outputs": [
        {
          "output_type": "execute_result",
          "data": {
            "text/plain": [
              "(PosixPath('/content/input_pdbs/3rfm.pdb'),\n",
              " <http.client.HTTPMessage at 0x7f86efda8580>)"
            ]
          },
          "metadata": {},
          "execution_count": 2
        }
      ]
    },
    {
      "cell_type": "markdown",
      "source": [
        "Define binding pocket\n",
        "You can choose between two options to define the binding pocket:\n",
        "\n",
        "list of residues: provide a list where each residue is specified as <chain_id>:<res_id>, e.g, A:1 A:2 A:3 A:4 A:5 A:6 A:7\n",
        "reference ligand: if the uploaded PDB structure contains a reference ligand in the target pocket, you can specify its location as <chain_id>:<res_id> and the pocket will be extracted automatically"
      ],
      "metadata": {
        "id": "dK-KRSbzNq-D"
      }
    },
    {
      "cell_type": "code",
      "source": [
        "#@title { run: \"auto\" }\n",
        "import ipywidgets as widgets\n",
        "\n",
        "#@markdown **Note:** This cell is an interactive widget and the values will be updated automatically every time you change them. You do not need to execute the cell again. If you do, the default values will be reinserted.\n",
        "\n",
        "pocket_definition = \"reference ligand\" #@param [\"list of residues\", \"reference ligand\"]\n",
        "\n",
        "if pocket_definition == \"list of residues\":\n",
        "  print('pocket_residues:')\n",
        "  w = widgets.Text(value='A:9 A:59 A:60 A:62 A:63 A:64 A:66 A:67 A:80 A:81 A:84 A:85 A:88 A:167 A:168 A:169 A:170 A:172 A:174 A:177 A:181 A:246 A:249 A:250 A:252 A:253 A:256 A:265 A:267 A:270 A:271 A:273 A:274 A:275 A:277 A:278')\n",
        "  pocket_flag = \"--resi_list\"\n",
        "elif pocket_definition == \"reference ligand\":\n",
        "  print('reference_ligand:')\n",
        "  w = widgets.Text(value='A:330')\n",
        "  pocket_flag = \"--ref_ligand\"\n",
        "\n",
        "display(w)"
      ],
      "metadata": {
        "colab": {
          "base_uri": "https://localhost:8080/",
          "height": 67,
          "referenced_widgets": [
            "cdb80341b8a0401a80c2cc5ceb393e86",
            "40e50270ae434df188cd87efb1025d7e",
            "ecfa02310acd49afb258d95d889f2c68"
          ]
        },
        "id": "AG70FGGpNsnw",
        "outputId": "35b9f590-1668-423d-da2b-38c0f0612e4e"
      },
      "execution_count": 3,
      "outputs": [
        {
          "output_type": "stream",
          "name": "stdout",
          "text": [
            "reference_ligand:\n"
          ]
        },
        {
          "output_type": "display_data",
          "data": {
            "text/plain": [
              "Text(value='A:330')"
            ],
            "application/vnd.jupyter.widget-view+json": {
              "version_major": 2,
              "version_minor": 0,
              "model_id": "cdb80341b8a0401a80c2cc5ceb393e86"
            }
          },
          "metadata": {
            "application/vnd.jupyter.widget-view+json": {
              "colab": {
                "custom_widget_manager": {
                  "url": "https://ssl.gstatic.com/colaboratory-static/widgets/colab-cdn-widget-manager/b3e629b1971e1542/manager.min.js"
                }
              }
            }
          }
        }
      ]
    },
    {
      "cell_type": "markdown",
      "source": [
        "## Settings\n",
        "\n",
        "These are the options you can change when sampling the molecule.\n",
        "- `n_samples` is the number of molecules you would like to generate\n",
        "- `ligand_nodes` is the number of atoms that will be plonked in at the beginning of the diffusion process - bear in mind they're unlikely to all get joined together, so you might want to make this number a bit bigger than the number of atoms you actually want your compounds to contain!\n",
        "- `model` allows you to choose which of the pretrained models you'd like to use\n",
        "- `timesteps` how many timesteps you would like the diffusion to take place over\n",
        "- `resamplings` and `jump_length` only pertain to the inpainting model\n",
        "-`keep_all_fragments` not all atoms will be joined together in the diffusion process, so this determines whether the non-connected atoms are included in the output\n",
        "-`sanitize` whether only rdkit-friendly molecules are output\n",
        "-`relax` whether an MD step is taken to increase the changes of the molecule being in an energetically favourable conformation\n"
      ],
      "metadata": {
        "id": "FszBNROjN2yq"
      }
    },
    {
      "cell_type": "code",
      "source": [
        "#@markdown ## Sampling\n",
        "n_samples = 16 #@param {type:\"slider\", min:1, max:100, step:1}\n",
        "ligand_nodes = 20 #@param {type:\"integer\"}\n",
        "\n",
        "model = \"Conditional model (Binding MOAD)\" #@param [\"Conditional model (Binding MOAD)\", \"Inpainting model (Binding MOAD)\"]\n",
        "checkpoint = Path( 'checkpoints', 'moad_fullatom_cond.ckpt') if model == \"Conditional model (Binding MOAD)\" else Path('DiffSBDD', 'checkpoints', 'moad_fullatom_joint.ckpt')\n",
        "\n",
        "timesteps = 14 #@param {type:\"slider\", min:1, max:500, step:1}\n",
        "\n",
        "#@markdown  ## Inpainting parameters\n",
        "resamplings = 1 #@param {type:\"integer\"}\n",
        "jump_length = 1 #@param {type:\"integer\"}\n",
        "\n",
        "#@markdown  ## Post-processing\n",
        "keep_all_fragments = False #@param {type:\"boolean\"}\n",
        "keep_all_fragments = \"--all_frags\" if keep_all_fragments else \"\"\n",
        "sanitize = False #@param {type:\"boolean\"}\n",
        "sanitize = \"--sanitize\" if sanitize else \"\"\n",
        "relax = False #@param {type:\"boolean\"}\n",
        "relax = \"--relax\" if relax else \"\""
      ],
      "metadata": {
        "id": "v_IrTJL7N7hB"
      },
      "execution_count": 4,
      "outputs": []
    },
    {
      "cell_type": "markdown",
      "source": [
        "The next cell is where the actual sampling of the trained model takes place - if you haven't changed runtime type to GPU, it will take ages, but with a GPU it's pretty speedy."
      ],
      "metadata": {
        "id": "HKoWy7Yro96K"
      }
    },
    {
      "cell_type": "code",
      "source": [
        "#@title Run sampling (this will take a few minutes; runtime depends on the input parameters `n_samples`, `timesteps` etc.)\n",
        "%%capture\n",
        "%cd /content/DiffSBDD\n",
        "\n",
        "import argparse\n",
        "from pathlib import Path\n",
        "import torch\n",
        "import utils\n",
        "from lightning_modules import LigandPocketDDPM\n",
        "\n",
        "\n",
        "pdb_id = Path(pdbfile).stem\n",
        "pocket = w.value\n",
        "\n",
        "device = 'cuda' if torch.cuda.is_available() else 'cpu'\n",
        "\n",
        "# Load model\n",
        "model = LigandPocketDDPM.load_from_checkpoint(checkpoint, map_location=device)\n",
        "model = model.to(device)\n",
        "\n",
        "num_nodes_lig = torch.ones(n_samples, dtype=int) * ligand_nodes\n",
        "\n",
        "if pocket_flag == '--ref_ligand':\n",
        "  resi_list = None\n",
        "  ref_ligand = pocket\n",
        "else:\n",
        "  resi_list = pocket.split()\n",
        "  ref_ligand = None\n",
        "\n",
        "molecules = model.generate_ligands(\n",
        "    pdbfile, n_samples, resi_list, ref_ligand,\n",
        "    num_nodes_lig, (sanitize == '--sanitize'),\n",
        "    largest_frag=not (keep_all_fragments == \"--all_frags\"),\n",
        "    relax_iter=(200 if (relax == \"--relax\") else 0),\n",
        "    resamplings=resamplings, jump_length=jump_length,\n",
        "    timesteps=timesteps\n",
        ")\n",
        "\n",
        "# Make SDF files\n",
        "utils.write_sdf_file(Path(output_dir, f'{pdb_id}_mol.sdf'), molecules)"
      ],
      "metadata": {
        "id": "B2ajGnPbON-E"
      },
      "execution_count": 5,
      "outputs": []
    },
    {
      "cell_type": "markdown",
      "source": [
        "You can now download your sdf file and open it in pymol - by eye, try and see how similar are the generated molecules to the crystal structure of the ligand: do they overlap in volume? do they maintain any of the interactions of the crystal ligand structure?\n",
        "\n",
        "Hints:\n",
        "- You can get the crytal structure straight into pymol just by running `fetch 3rfm` in the pymol command line\n",
        "- You can then view hydrogen bonds within the solved structure by going Action > Find > Polar contacts > Within Selection"
      ],
      "metadata": {
        "id": "KajszvvYRlsU"
      }
    },
    {
      "cell_type": "markdown",
      "source": [
        "Now, we'll actually assess the quality of the generated molecules. One of the most common ways to do this is using RDkit, which you used a bit on Tuesday. See below an example of how you can do this with a molecule made up from a smiles string:"
      ],
      "metadata": {
        "id": "sRZQ5wxhSDY4"
      }
    },
    {
      "cell_type": "code",
      "source": [
        "\n",
        "\n",
        "from rdkit import Chem\n",
        "from rdkit.Chem import AllChem\n",
        "from rdkit.Chem import Draw\n",
        "example_smiles = Chem.MolFromSmiles('CC(=O)NC1=CC=C(O)C=C1')\n",
        "Chem.Draw.MolToImage(example_smiles)"
      ],
      "metadata": {
        "colab": {
          "base_uri": "https://localhost:8080/",
          "height": 317
        },
        "id": "U-LIlPzcSUID",
        "outputId": "70b26d00-c3d0-4f9a-f2ad-ff6e4577e498"
      },
      "execution_count": 7,
      "outputs": [
        {
          "output_type": "execute_result",
          "data": {
            "text/plain": [
              "<PIL.PngImagePlugin.PngImageFile image mode=RGB size=300x300>"
            ],
            "image/png": "[encoded data removed]"
          },
          "metadata": {},
          "execution_count": 7
        }
      ]
    },
    {
      "cell_type": "markdown",
      "source": [
        "...you just got paracetamol'd! rdkit was able to parse the molecule we gave it, so running 'example_smiles' showed us the molecule we asked for. If we supply it with an invalid smiles, though, it would return nothing:"
      ],
      "metadata": {
        "id": "ZxD4YQwRTIfS"
      }
    },
    {
      "cell_type": "code",
      "source": [
        "example_smiles = Chem.MolFromSmiles('C=C(=O)C1CCC(O)CC1')\n",
        "example_smiles == None"
      ],
      "metadata": {
        "colab": {
          "base_uri": "https://localhost:8080/"
        },
        "id": "C7bNfNIgTmPF",
        "outputId": "c3a3d712-5e34-4697-b7e5-5750ea1d08ab"
      },
      "execution_count": 8,
      "outputs": [
        {
          "output_type": "stream",
          "name": "stderr",
          "text": [
            "[08:24:55] Explicit valence for atom # 1 C, 5, is greater than permitted\n"
          ]
        },
        {
          "output_type": "execute_result",
          "data": {
            "text/plain": [
              "True"
            ]
          },
          "metadata": {},
          "execution_count": 8
        }
      ]
    },
    {
      "cell_type": "markdown",
      "source": [
        "Now try and do the same with the molecules generated with diffusion, and calculate the percentage of molecules that are parsable with rdkit.\n",
        "Hints:\n",
        " - Remember you're currently cd'd into `contents/DiffSBDD`\n",
        " - You can load the sdf file you've generated with `supplier = Chem.SDMolSupplier(path)`\n",
        " - Iterate through this list, and for every molecule, check whether it is valid according to rdkit"
      ],
      "metadata": {
        "id": "_2DweCIwTM0N"
      }
    },
    {
      "cell_type": "code",
      "source": [
        "#how valid are the generated molecules?"
      ],
      "metadata": {
        "id": "54iZy_RSaJN_"
      },
      "execution_count": 9,
      "outputs": []
    },
    {
      "cell_type": "markdown",
      "source": [
        "There also exist packages that do a slightly more thorough check for molecule plausibility, for example posebusters (documentation [here](https://posebusters.readthedocs.io/en/latest/)). Check through the molecules with this, and see what the most common cause of failure is!"
      ],
      "metadata": {
        "id": "FZXorfKdkAoz"
      }
    },
    {
      "cell_type": "code",
      "source": [
        "\n",
        "! pip install posebusters --upgrade"
      ],
      "metadata": {
        "colab": {
          "base_uri": "https://localhost:8080/"
        },
        "id": "O6YM1QcJkLZb",
        "outputId": "8d3ef890-5c73-47a9-ef40-e88de59fb549"
      },
      "execution_count": 10,
      "outputs": [
        {
          "output_type": "stream",
          "name": "stdout",
          "text": [
            "Requirement already satisfied: posebusters in /usr/local/lib/python3.10/site-packages (0.2.8)\n",
            "Requirement already satisfied: pyyaml in /usr/local/lib/python3.10/site-packages (from posebusters) (6.0.1)\n",
            "Requirement already satisfied: rdkit>=2020.09 in /usr/local/lib/python3.10/site-packages (from posebusters) (2023.9.2)\n",
            "Requirement already satisfied: numpy in /usr/local/lib/python3.10/site-packages (from posebusters) (1.22.4)\n",
            "Requirement already satisfied: pandas in /usr/local/lib/python3.10/site-packages (from posebusters) (2.1.3)\n",
            "Requirement already satisfied: Pillow in /usr/local/lib/python3.10/site-packages (from rdkit>=2020.09->posebusters) (9.3.0)\n",
            "Requirement already satisfied: pytz>=2020.1 in /usr/local/lib/python3.10/site-packages (from pandas->posebusters) (2023.3.post1)\n",
            "Requirement already satisfied: python-dateutil>=2.8.2 in /usr/local/lib/python3.10/site-packages (from pandas->posebusters) (2.8.2)\n",
            "Requirement already satisfied: tzdata>=2022.1 in /usr/local/lib/python3.10/site-packages (from pandas->posebusters) (2023.3)\n",
            "Requirement already satisfied: six>=1.5 in /usr/local/lib/python3.10/site-packages (from python-dateutil>=2.8.2->pandas->posebusters) (1.16.0)\n",
            "\u001b[33mWARNING: Running pip as the 'root' user can result in broken permissions and conflicting behaviour with the system package manager. It is recommended to use a virtual environment instead: https://pip.pypa.io/warnings/venv\u001b[0m\u001b[33m\n",
            "\u001b[0m"
          ]
        }
      ]
    },
    {
      "cell_type": "code",
      "source": [
        "! bust ../output_sdfs/3rfm_mol.sdf"
      ],
      "metadata": {
        "colab": {
          "base_uri": "https://localhost:8080/"
        },
        "id": "BMduJK8Wlj1W",
        "outputId": "5e60b0b7-cec2-4ae8-9c18-c0ef679c988e"
      },
      "execution_count": 11,
      "outputs": [
        {
          "output_type": "stream",
          "name": "stdout",
          "text": [
            "../output_sdfs/3rfm_mol.sdf mol_at_pos_0  passes (9 / 9)\n",
            "../output_sdfs/3rfm_mol.sdf mol_at_pos_1  passes (6 / 9)\n",
            "Traceback (most recent call last):\n",
            "  File \"/usr/local/bin/bust\", line 8, in <module>\n",
            "    sys.exit(main())\n",
            "  File \"/usr/local/lib/python3.10/site-packages/posebusters/cli.py\", line 25, in main\n",
            "    bust(**vars(parser))\n",
            "  File \"/usr/local/lib/python3.10/site-packages/posebusters/cli.py\", line 62, in bust\n",
            "    for i, results_dict in enumerate(posebusters_results):\n",
            "  File \"/usr/local/lib/python3.10/site-packages/posebusters/posebusters.py\", line 162, in _run\n",
            "    module_output = func(**args)\n",
            "  File \"/usr/local/lib/python3.10/site-packages/posebusters/modules/energy_ratio.py\", line 78, in check_energy_ratio\n",
            "    avg_energy = float(get_average_energy(inchi, ensemble_number_conformations))\n",
            "  File \"/usr/local/lib/python3.10/site-packages/posebusters/modules/energy_ratio.py\", line 110, in get_average_energy\n",
            "    energies = new_conformation(mol, n_confs, num_threads)[\"energies\"]\n",
            "  File \"/usr/local/lib/python3.10/site-packages/posebusters/modules/energy_ratio.py\", line 138, in new_conformation\n",
            "    energy_uff = UFFOptimizeMoleculeConfs(mol_etkdg, numThreads=num_threads)\n",
            "KeyboardInterrupt\n",
            "^C\n"
          ]
        }
      ]
    },
    {
      "cell_type": "code",
      "source": [],
      "metadata": {
        "colab": {
          "base_uri": "https://localhost:8080/"
        },
        "id": "8EdTE1_NkNZs",
        "outputId": "04056857-eb99-45c9-de8d-c76cec9ff3d7"
      },
      "execution_count": null,
      "outputs": [
        {
          "output_type": "stream",
          "name": "stdout",
          "text": [
            "Traceback (most recent call last):\n",
            "  File \"/usr/local/bin/bust\", line 5, in <module>\n",
            "    from posebusters.cli import main\n",
            "  File \"/usr/local/lib/python3.10/site-packages/posebusters/__init__.py\", line 4, in <module>\n",
            "    from posebusters.modules.energy_ratio import check_energy_ratio\n",
            "  File \"/usr/local/lib/python3.10/site-packages/posebusters/modules/energy_ratio.py\", line 20, in <module>\n",
            "    from ..tools.molecules import assert_sanity\n",
            "  File \"/usr/local/lib/python3.10/site-packages/posebusters/tools/molecules.py\", line 20, in <module>\n",
            "    from rdkit.Chem.rdMolAlign import GetBestAlignmentTransform\n",
            "ImportError: cannot import name 'GetBestAlignmentTransform' from 'rdkit.Chem.rdMolAlign' (/usr/local/lib/python3.10/site-packages/rdkit/Chem/rdMolAlign.so)\n"
          ]
        }
      ]
    },
    {
      "cell_type": "code",
      "source": [],
      "metadata": {
        "id": "yVneTDLjmsk5"
      },
      "execution_count": null,
      "outputs": []
    }
  ]
}